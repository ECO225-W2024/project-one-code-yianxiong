{
 "cells": [
  {
   "cell_type": "code",
   "execution_count": 22,
   "id": "aa1d4ab6-5459-438a-8b9c-523c353f39e7",
   "metadata": {},
   "outputs": [
    {
     "name": "stdout",
     "output_type": "stream",
     "text": [
      "/Users/project-one-code-yianxiong/ECO225Project/Code\n"
     ]
    }
   ],
   "source": [
    "import os\n",
    "\n",
    "# Change to the desired directory\n",
    "os.chdir('/Users/project-one-code-yianxiong/ECO225Project/Code')\n",
    "\n",
    "# Verify the change\n",
    "print(os.getcwd())\n"
   ]
  },
  {
   "cell_type": "code",
   "execution_count": 23,
   "id": "7aecdb78-0d03-4e2b-9cf9-9ae7981734f2",
   "metadata": {},
   "outputs": [],
   "source": [
    "import pandas as pd\n",
    "\n",
    "# List of CSV file paths\n",
    "file_paths = ['acquisitions.csv', 'degrees.csv', 'funds.csv', 'investments.csv', 'offices.csv']\n",
    "\n",
    "# Function for basic data cleaning\n",
    "def clean_data(df):\n",
    "    # Remove rows with any missing values\n",
    "    df = df.dropna()\n",
    "\n",
    "    # Remove duplicate entries if they exist\n",
    "    df = df.drop_duplicates()\n",
    "\n",
    "    return df\n",
    "\n",
    "# Function to print a summary of the DataFrame\n",
    "def print_summary(df, file_name):\n",
    "    print(f\"Summary of {file_name}:\")\n",
    "    print(f\"Number of Rows: {df.shape[0]}\")\n",
    "    print(f\"Number of Columns: {df.shape[1]}\")\n",
    "    print(\"First 5 Rows:\")\n",
    "    print(df.head())\n",
    "    print(\"Basic Statistics:\")\n",
    "    print(df.describe(include='all'))\n",
    "    print(\"\\n\")\n",
    "\n",
    "# Read and clean each CSV file, then store in a list\n",
    "dataframes = []\n",
    "for file in file_paths:\n",
    "    try:\n",
    "        df = pd.read_csv(file)\n",
    "        cleaned_df = clean_data(df)\n",
    "        dataframes.append(cleaned_df)\n",
    "        print_summary(cleaned_df, file)\n",
    "    except FileNotFoundError:\n",
    "        print(f\"File not found: {file}\")\n",
    "\n",
    "# Combine all cleaned DataFrames into a single DataFrame\n",
    "if dataframes:\n",
    "    combined_df = pd.concat(dataframes, ignore_index=True)\n",
    "    print_summary(combined_df, \"Combined Dataset\")\n",
    "else:\n",
    "    print(\"No dataframes to combine.\")\n"
   ]
  }
 ],
 "metadata": {
  "kernelspec": {
   "display_name": "Python 3 (ipykernel)",
   "language": "python",
   "name": "python3"
  },
  "language_info": {
   "codemirror_mode": {
    "name": "ipython",
    "version": 3
   },
   "file_extension": ".py",
   "mimetype": "text/x-python",
   "name": "python",
   "nbconvert_exporter": "python",
   "pygments_lexer": "ipython3",
   "version": "3.8.18"
  }
 },
 "nbformat": 4,
 "nbformat_minor": 5
}
