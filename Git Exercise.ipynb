{
 "cells": [
  {
   "cell_type": "code",
   "execution_count": 22,
   "id": "aa1d4ab6-5459-438a-8b9c-523c353f39e7",
   "metadata": {},
   "outputs": [
    {
     "name": "stdout",
     "output_type": "stream",
     "text": [
      "/Users/project-one-code-yianxiong/ECO225Project/Code\n"
     ]
    }
   ],
   "source": [
    "import os\n",
    "\n",
    "# Change to the desired directory\n",
    "os.chdir('/Users/project-one-code-yianxiong/ECO225Project/Code')\n",
    "\n",
    "# Verify the change\n",
    "print(os.getcwd())\n"
   ]
  },
  {
   "cell_type": "code",
   "execution_count": 23,
   "id": "7aecdb78-0d03-4e2b-9cf9-9ae7981734f2",
   "metadata": {},
   "outputs": [],
   "source": [
    "import pandas as pd\n",
    "\n",
    "# List of CSV file paths\n",
    "file_paths = ['acquisitions.csv', 'degrees.csv', 'funds.csv', 'investments', 'offices']\n",
    "\n",
    "# Function for basic data cleaning\n",
    "def clean_data(df):\n",
    "    # Handle missing values, here we fill them with a placeholder\n",
    "    df.fillna('Missing', inplace=True)\n",
    "\n",
    "    # Remove duplicate entries if they exist\n",
    "    df.drop_duplicates(inplace=True)\n",
    "\n",
    "    # standardizing column names\n",
    "    df.columns = [column.lower() for column in df.columns]  # lowercasing column names\n",
    "\n",
    "    return df\n",
    "\n",
    "# Read and clean each CSV file, then store in a list\n",
    "dataframes = []\n",
    "for file in file_paths:\n",
    "    df = pd.read_csv(file)\n",
    "    cleaned_df = clean_data(df)\n",
    "    dataframes.append(cleaned_df)\n",
    "    print(f\"Dataset from {file}:\")\n",
    "    print(cleaned_df.head())  # Display the first few rows of each dataset\n",
    "    print(\"\\n\")\n",
    "\n",
    "# Combine all cleaned DataFrames into a single DataFrame\n",
    "combined_df = pd.concat(dataframes, ignore_index=True)\n",
    "print(\"Combined Dataset:\")\n",
    "print(combined_df.head())\n"
   ]
  }
 ],
 "metadata": {
  "kernelspec": {
   "display_name": "Python 3 (ipykernel)",
   "language": "python",
   "name": "python3"
  },
  "language_info": {
   "codemirror_mode": {
    "name": "ipython",
    "version": 3
   },
   "file_extension": ".py",
   "mimetype": "text/x-python",
   "name": "python",
   "nbconvert_exporter": "python",
   "pygments_lexer": "ipython3",
   "version": "3.8.18"
  }
 },
 "nbformat": 4,
 "nbformat_minor": 5
}
