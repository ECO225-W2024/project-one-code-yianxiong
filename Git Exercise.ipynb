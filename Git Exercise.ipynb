{
 "cells": [
  {
   "cell_type": "code",
   "execution_count": 22,
   "id": "aa1d4ab6-5459-438a-8b9c-523c353f39e7",
   "metadata": {},
   "outputs": [
    {
     "name": "stdout",
     "output_type": "stream",
     "text": [
      "/Users/project-one-code-yianxiong/ECO225Project/Code\n"
     ]
    }
   ],
   "source": [
    "import os\n",
    "\n",
    "# Change to the desired directory\n",
    "os.chdir('/Users/project-one-code-yianxiong/ECO225Project/Code')\n",
    "\n",
    "# Verify the change\n",
    "print(os.getcwd())\n"
   ]
  },
  {
   "cell_type": "code",
   "execution_count": 23,
   "id": "7aecdb78-0d03-4e2b-9cf9-9ae7981734f2",
   "metadata": {},
   "outputs": [],
   "source": [
    "import pandas as pd\n",
    "df = pd.read_csv('funds.csv')"
   ]
  },
  {
   "cell_type": "code",
   "execution_count": 13,
   "id": "488c425d-bf8c-46bf-b66c-a5e2ec06879c",
   "metadata": {},
   "outputs": [],
   "source": [
    "df = df.dropna()        # Drop all rows with any missing values"
   ]
  },
  {
   "cell_type": "code",
   "execution_count": 4,
   "id": "6d409b26-6c25-4322-ac3e-da163a8f8078",
   "metadata": {},
   "outputs": [
    {
     "name": "stdout",
     "output_type": "stream",
     "text": [
      "   id  fund_id object_id                                 name   funded_at  \\\n",
      "0   1        1     f:371                          Second Fund  2008-12-16   \n",
      "1   4        4      f:17           Sequoia Israel Fourth Fund  2008-12-17   \n",
      "2   5        5     f:951                           Tenth fund  2008-08-11   \n",
      "4   7        7     f:519                           Third fund  2008-05-20   \n",
      "5   8        8    f:1811  Inventus Capital Partners Fund I LP  2007-11-30   \n",
      "\n",
      "   raised_amount raised_currency_code  \\\n",
      "0    300000000.0                  USD   \n",
      "1    200750000.0                  USD   \n",
      "2    650000000.0                  USD   \n",
      "4    200000000.0                  USD   \n",
      "5     51750000.0                  USD   \n",
      "\n",
      "                                          source_url  \\\n",
      "0  http://www.pehub.com/26194/dfj-dragon-raising-...   \n",
      "1  http://www.pehub.com/26725/sequoia-israel-rais...   \n",
      "2  http://venturebeat.com/2008/08/11/interwest-cl...   \n",
      "4  http://venturebeat.com/2008/05/20/disneys-stea...   \n",
      "5  http://venturebeat.com/2008/01/14/kanwal-rekhi...   \n",
      "\n",
      "                             source_description           created_at  \\\n",
      "0                                         peHub  2008-12-17 03:07:16   \n",
      "1             Sequoia Israel Raises Fourth Fund  2008-12-18 22:04:42   \n",
      "2                                  Venture Beat  2008-12-31 09:47:51   \n",
      "4                                  Venture Beat  2009-01-03 09:51:58   \n",
      "5  Kanwal Rekhiâs India-focused firm Inventus  2009-01-06 18:58:58   \n",
      "\n",
      "            updated_at  \n",
      "0  2008-12-17 03:07:16  \n",
      "1  2008-12-18 22:04:42  \n",
      "2  2008-12-31 09:47:51  \n",
      "4  2013-09-03 16:34:54  \n",
      "5  2010-09-03 21:46:06  \n",
      "<class 'pandas.core.frame.DataFrame'>\n",
      "Index: 1167 entries, 0 to 1563\n",
      "Data columns (total 11 columns):\n",
      " #   Column                Non-Null Count  Dtype  \n",
      "---  ------                --------------  -----  \n",
      " 0   id                    1167 non-null   int64  \n",
      " 1   fund_id               1167 non-null   int64  \n",
      " 2   object_id             1167 non-null   object \n",
      " 3   name                  1167 non-null   object \n",
      " 4   funded_at             1167 non-null   object \n",
      " 5   raised_amount         1167 non-null   float64\n",
      " 6   raised_currency_code  1167 non-null   object \n",
      " 7   source_url            1167 non-null   object \n",
      " 8   source_description    1167 non-null   object \n",
      " 9   created_at            1167 non-null   object \n",
      " 10  updated_at            1167 non-null   object \n",
      "dtypes: float64(1), int64(2), object(8)\n",
      "memory usage: 109.4+ KB\n",
      "None\n",
      "                id      fund_id  raised_amount\n",
      "count  1167.000000  1167.000000   1.167000e+03\n",
      "mean    857.558698   857.558698   4.066274e+08\n",
      "std     502.896055   502.896055   1.121620e+09\n",
      "min       1.000000     1.000000   0.000000e+00\n",
      "25%     420.500000   420.500000   3.500000e+07\n",
      "50%     860.000000   860.000000   1.300000e+08\n",
      "75%    1307.000000  1307.000000   3.500000e+08\n",
      "max    1701.000000  1701.000000   1.300000e+10\n"
     ]
    }
   ],
   "source": [
    "print(df.head())         # Look at the first few rows\n",
    "print(df.info())         # Get a summary of the data types and non-null values\n",
    "print(df.describe())     # Get summary statistics for numerical columns    "
   ]
  },
  {
   "cell_type": "code",
   "execution_count": null,
   "id": "7ec11457-49f8-44e5-b923-530999d4716a",
   "metadata": {},
   "outputs": [],
   "source": []
  }
 ],
 "metadata": {
  "kernelspec": {
   "display_name": "Python 3 (ipykernel)",
   "language": "python",
   "name": "python3"
  },
  "language_info": {
   "codemirror_mode": {
    "name": "ipython",
    "version": 3
   },
   "file_extension": ".py",
   "mimetype": "text/x-python",
   "name": "python",
   "nbconvert_exporter": "python",
   "pygments_lexer": "ipython3",
   "version": "3.8.18"
  }
 },
 "nbformat": 4,
 "nbformat_minor": 5
}
